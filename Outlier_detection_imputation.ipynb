{
  "nbformat": 4,
  "nbformat_minor": 0,
  "metadata": {
    "colab": {
      "name": "Untitled8.ipynb",
      "provenance": [],
      "collapsed_sections": [],
      "authorship_tag": "ABX9TyN11yK+68KNlxHKa9T2+mBA",
      "include_colab_link": true
    },
    "kernelspec": {
      "name": "python3",
      "display_name": "Python 3"
    }
  },
  "cells": [
    {
      "cell_type": "markdown",
      "metadata": {
        "id": "view-in-github",
        "colab_type": "text"
      },
      "source": [
        "<a href=\"https://colab.research.google.com/github/AkashBudholia/Data-Science/blob/master/Outlier_detection_imputation.ipynb\" target=\"_parent\"><img src=\"https://colab.research.google.com/assets/colab-badge.svg\" alt=\"Open In Colab\"/></a>"
      ]
    },
    {
      "cell_type": "code",
      "metadata": {
        "id": "cw3dwiiS2yLd",
        "colab_type": "code",
        "colab": {
          "resources": {
            "http://localhost:8080/nbextensions/google.colab/files.js": {
              "data": "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",
              "ok": true,
              "headers": [
                [
                  "content-type",
                  "application/javascript"
                ]
              ],
              "status": 200,
              "status_text": ""
            }
          },
          "base_uri": "https://localhost:8080/",
          "height": 72
        },
        "outputId": "79bfd791-afd9-41e5-95eb-1b353ccf7196"
      },
      "source": [
        "from google.colab import files\n",
        "\n",
        "uploaded = files.upload()"
      ],
      "execution_count": null,
      "outputs": [
        {
          "output_type": "display_data",
          "data": {
            "text/html": [
              "\n",
              "     <input type=\"file\" id=\"files-05d3a838-6ecc-4cc3-a9d7-4742dd910b68\" name=\"files[]\" multiple disabled\n",
              "        style=\"border:none\" />\n",
              "     <output id=\"result-05d3a838-6ecc-4cc3-a9d7-4742dd910b68\">\n",
              "      Upload widget is only available when the cell has been executed in the\n",
              "      current browser session. Please rerun this cell to enable.\n",
              "      </output>\n",
              "      <script src=\"/nbextensions/google.colab/files.js\"></script> "
            ],
            "text/plain": [
              "<IPython.core.display.HTML object>"
            ]
          },
          "metadata": {
            "tags": []
          }
        },
        {
          "output_type": "stream",
          "text": [
            "Saving baldwin_pump_data.csv to baldwin_pump_data.csv\n"
          ],
          "name": "stdout"
        }
      ]
    },
    {
      "cell_type": "code",
      "metadata": {
        "id": "d3AZZrj23imS",
        "colab_type": "code",
        "colab": {}
      },
      "source": [
        "import pandas as pd   #for Dataframe manipulation\n",
        "import io             # for byte stream.\n",
        "import numpy as np   # for data manipulation\n",
        "import matplotlib.pyplot as plt  # for data plotting(scatter plot, boxplots)\n",
        "import seaborn as sns            # for data plotting(scatter plot, boxplots)\n",
        "from keras.models import Sequential  # for CNN based layers\n",
        "from keras.layers import LSTM    \n",
        "from keras.layers import Dense"
      ],
      "execution_count": null,
      "outputs": []
    },
    {
      "cell_type": "code",
      "metadata": {
        "id": "9lfjz_zj3znz",
        "colab_type": "code",
        "colab": {}
      },
      "source": [
        "dataset = pd.read_csv('baldwin_pump_data.csv')\n",
        "dataset = dataset.dropna(how = 'all', axis = 0)   # dropping the lines between the tuples\n",
        "\n",
        "std = dataset.std(skipna= True) # calclate the std deviation\n"
      ],
      "execution_count": null,
      "outputs": []
    },
    {
      "cell_type": "markdown",
      "metadata": {
        "id": "6iJGLft9a90w",
        "colab_type": "text"
      },
      "source": [
        "Reset the Indexes"
      ]
    },
    {
      "cell_type": "code",
      "metadata": {
        "id": "0Jt9xscv5Zye",
        "colab_type": "code",
        "colab": {}
      },
      "source": [
        "index = []\n",
        "for i in range(0,len(dataset)):\n",
        "  index.append(i)\n",
        "dataset.index = index\n",
        "\n",
        "spare_df = dataset\n"
      ],
      "execution_count": null,
      "outputs": []
    },
    {
      "cell_type": "markdown",
      "metadata": {
        "id": "AI3xyZhtxQTv",
        "colab_type": "text"
      },
      "source": [
        "Calculating the Median Absolute Deviation which is prone to ouliers as compared to mean and std deviation"
      ]
    },
    {
      "cell_type": "markdown",
      "metadata": {
        "id": "9hkSaALanPsd",
        "colab_type": "text"
      },
      "source": [
        "Dataframe for Scatter Plot and BoxPlot"
      ]
    },
    {
      "cell_type": "code",
      "metadata": {
        "id": "cSBo8q7lPxcD",
        "colab_type": "code",
        "colab": {}
      },
      "source": [
        "dataset1scatter = pd.DataFrame(columns = {'Timestamp','BFP_SEAL_WATER_FLOW'})\n",
        "\n",
        "testscatter = pd.DataFrame(columns = {'Timestamp','BFP_SEAL_WATER_FLOW'})\n",
        "\n",
        "index = []\n",
        "for i in range(0,len(dataset)):\n",
        "  index.append(i)\n",
        "dataset.index = index\n",
        "\n",
        "dataset1scatter['BFP_SEAL_WATER_FLOW'] = dataset['BFP_SEAL_WATER_FLOW']\n",
        "\n",
        "dataset1scatter['Timestamp'] = dataset['Timestamp']\n",
        "\n",
        "dataset1scatter['BFP_SEAL_WATER_FLOW'].mask(dataset1scatter['BFP_SEAL_WATER_FLOW'].eq('None')).dropna(inplace = True) # dropping NaN and None values\n",
        "\n",
        "mean = dataset1scatter['BFP_SEAL_WATER_FLOW'].mean()\n",
        "\n",
        "dataset1scatter.dropna(inplace = True)\n"
      ],
      "execution_count": null,
      "outputs": []
    },
    {
      "cell_type": "code",
      "metadata": {
        "id": "SERQfRrRxk46",
        "colab_type": "code",
        "colab": {}
      },
      "source": [
        "from scipy.stats import median_absolute_deviation\n",
        "\n",
        "mad = median_absolute_deviation(dataset1scatter['BFP_SEAL_WATER_FLOW'])"
      ],
      "execution_count": null,
      "outputs": []
    },
    {
      "cell_type": "code",
      "metadata": {
        "id": "hBYcSIR-xi_2",
        "colab_type": "code",
        "colab": {}
      },
      "source": [
        "L1 = []\n",
        "\n",
        "index = []\n",
        "for i in range(0,len(dataset1scatter)):\n",
        "  index.append(i)\n",
        "dataset1scatter.index = index\n",
        "\n",
        "#using the fact that a value differing from the MAD, must be around the shutting down stage \n",
        "\n",
        "for row in range(len(dataset1scatter)):\n",
        "\n",
        "    if dataset1scatter['BFP_SEAL_WATER_FLOW'][row] <= mad:\n",
        "       L1.append(row)\n",
        "\n",
        "dataset1scatter.drop(L1, axis = 0, inplace = True)"
      ],
      "execution_count": null,
      "outputs": []
    },
    {
      "cell_type": "markdown",
      "metadata": {
        "id": "xPtWOxIunvRa",
        "colab_type": "text"
      },
      "source": [
        "Setting the Boxplot ranges. IQR and box plots."
      ]
    },
    {
      "cell_type": "code",
      "metadata": {
        "id": "5q7wr8tCIhBO",
        "colab_type": "code",
        "colab": {
          "base_uri": "https://localhost:8080/",
          "height": 515
        },
        "outputId": "3bf48ffc-77f9-47b8-b114-f293e4bb2d51"
      },
      "source": [
        "plt.figure(figsize=(16,8))\n",
        "\n",
        "bp = sns.boxplot(dataset1scatter['BFP_SEAL_WATER_FLOW'])\n",
        "\n",
        "Q1 = dataset1scatter['BFP_SEAL_WATER_FLOW'].quantile(0.25)\n",
        "Q3 = dataset1scatter['BFP_SEAL_WATER_FLOW'].quantile(0.75)\n",
        "IQR = Q3 - Q1\n",
        "\n",
        "print(dataset1scatter['BFP_SEAL_WATER_FLOW'].skew())\n",
        "\n"
      ],
      "execution_count": null,
      "outputs": [
        {
          "output_type": "stream",
          "text": [
            "1.622917020978596\n"
          ],
          "name": "stdout"
        },
        {
          "output_type": "display_data",
          "data": {
            "image/png": "[encoded data removed]",
            "text/plain": [
              "<Figure size 1152x576 with 1 Axes>"
            ]
          },
          "metadata": {
            "tags": [],
            "needs_background": "light"
          }
        }
      ]
    },
    {
      "cell_type": "markdown",
      "metadata": {
        "id": "4O4EhJc6cnPf",
        "colab_type": "text"
      },
      "source": [
        "Increasing the cap to accomodate more data points as non outliers"
      ]
    },
    {
      "cell_type": "code",
      "metadata": {
        "id": "f4i4zdaia8vo",
        "colab_type": "code",
        "colab": {}
      },
      "source": [
        "upper_cap = dataset1scatter['BFP_SEAL_WATER_FLOW'].quantile(0.9)\n",
        "lower_cap = dataset1scatter['BFP_SEAL_WATER_FLOW'].quantile(0.1)"
      ],
      "execution_count": null,
      "outputs": []
    },
    {
      "cell_type": "code",
      "metadata": {
        "id": "tzBUng5Xa2jy",
        "colab_type": "code",
        "colab": {}
      },
      "source": [
        "dataset1scatter['BFP_SEAL_WATER_FLOW'] = np.where(dataset1scatter[\"BFP_SEAL_WATER_FLOW\"] < lower_cap, lower_cap,dataset1scatter['BFP_SEAL_WATER_FLOW'])\n",
        "\n",
        "dataset1scatter['BFP_SEAL_WATER_FLOW'] = np.where(dataset1scatter['BFP_SEAL_WATER_FLOW'] > upper_cap, upper_cap, dataset1scatter[\"BFP_SEAL_WATER_FLOW\"])\n"
      ],
      "execution_count": null,
      "outputs": []
    },
    {
      "cell_type": "markdown",
      "metadata": {
        "id": "xiOjZZaKn_4p",
        "colab_type": "text"
      },
      "source": [
        "print(dobj[\"BFP_SEAL_WATER_FLOW\"].skew())"
      ]
    },
    {
      "cell_type": "code",
      "metadata": {
        "id": "LgNJf3SPayIi",
        "colab_type": "code",
        "colab": {
          "base_uri": "https://localhost:8080/",
          "height": 498
        },
        "outputId": "ad0a7aa5-c125-439e-bb90-d13129ef521d"
      },
      "source": [
        "plt.figure(figsize = (16,8))\n",
        "\n",
        "bp = sns.boxplot(dataset1scatter['BFP_SEAL_WATER_FLOW'])"
      ],
      "execution_count": null,
      "outputs": [
        {
          "output_type": "display_data",
          "data": {
            "image/png": "[encoded data removed]",
            "text/plain": [
              "<Figure size 1152x576 with 1 Axes>"
            ]
          },
          "metadata": {
            "tags": [],
            "needs_background": "light"
          }
        }
      ]
    },
    {
      "cell_type": "markdown",
      "metadata": {
        "id": "gwovI6fOcy-s",
        "colab_type": "text"
      },
      "source": [
        "Setting up the timestamp as the index for scatterplots"
      ]
    },
    {
      "cell_type": "code",
      "metadata": {
        "id": "adQZa_E8YC9f",
        "colab_type": "code",
        "colab": {}
      },
      "source": [
        "index = []\n",
        "for i in range(0,len(dataset1scatter)):\n",
        "  index.append(i)\n",
        "dataset1scatter.index = index\n",
        "\n",
        "timestamp = []\n",
        "for i in range(0 , len(dataset1scatter)):\n",
        "  temp = dataset1scatter['Timestamp'][i].split(\"/\")\n",
        "  month = temp[0]\n",
        "  date = temp[1]\n",
        "  year = temp[2].split(\" \")[0]\n",
        "  time = temp[2].split(\" \")[1]\n",
        "  sample = \"19\"+year + \"-\" + month + \"-\" + date +  \" \" + time\n",
        "  sample = pd.to_datetime(sample , format=\"%Y-%m-%d %H:%M:%S\")\n",
        "  timestamp.append(sample)\n",
        "\n",
        "dataset1scatter['Timestamp'] = timestamp\n",
        "\n",
        "dataset1scatter.index = dataset1scatter['Timestamp']\n",
        "\n",
        "dataset1scatter.sort_index(ascending = True, axis = 0, inplace = True)\n"
      ],
      "execution_count": null,
      "outputs": []
    },
    {
      "cell_type": "code",
      "metadata": {
        "id": "8CvldLdu9W35",
        "colab_type": "code",
        "colab": {}
      },
      "source": [
        "dataset1scatter.drop(['Timestamp'] , axis = 'columns' , inplace = True)"
      ],
      "execution_count": null,
      "outputs": []
    },
    {
      "cell_type": "code",
      "metadata": {
        "id": "N3YlsCuZEWYP",
        "colab_type": "code",
        "colab": {}
      },
      "source": [
        "#dataset1scatter.to_csv('Imputer.csv')"
      ],
      "execution_count": null,
      "outputs": []
    },
    {
      "cell_type": "markdown",
      "metadata": {
        "id": "dczRHZWLc6OU",
        "colab_type": "text"
      },
      "source": [
        "Any value outside the IQR is a outlier and will be shown in Red, other wise Blue"
      ]
    },
    {
      "cell_type": "code",
      "metadata": {
        "id": "CzxAycIQeKy8",
        "colab_type": "code",
        "colab": {}
      },
      "source": [
        "plt.figure(figsize=(16,8))\n",
        "\n",
        "lower_val = dataset1scatter['BFP_SEAL_WATER_FLOW'].quantile(0.25)\n",
        "\n",
        "upper_val = dataset1scatter['BFP_SEAL_WATER_FLOW'].quantile(0.75)\n",
        "\n",
        "plt.scatter(dataset1scatter,index, dataset1scatter['BFP_SEAL_WATER_FLOW'], c = 'R')\n",
        "\n",
        "for i in range(0, len(dataset1scatter)): \n",
        " \n",
        "    if dataset1scatter['BFP_SEAL_WATER_FLOW'][i] <=  upper_val and dataset1scatter['BFP_SEAL_WATER_FLOW'][i] >= lower_val:\n",
        "       plt.scatter(dataset1scatter.index[i], dataset1scatter['BFP_SEAL_WATER_FLOW'][i], c = 'B')\n",
        "       \n",
        "\n",
        "plt.show()"
      ],
      "execution_count": null,
      "outputs": []
    },
    {
      "cell_type": "markdown",
      "metadata": {
        "id": "BhQF0EBEdCH5",
        "colab_type": "text"
      },
      "source": [
        "Savgol outlier smoothing technique: \n",
        "The Savitzky-Golay filter has two parameters: the window size and the degree of the polynomial.\n",
        "\n",
        "The window size parameter specifies how many data points will be used to fit a polynomial regression function. The second parameter specifies the degree of the fitted polynomial function (if we choose 1 as the polynomial degree, we end up using a linear regression function).\n",
        "\n",
        "In every window, a new polynomial is fitted, which gives us the effect of smoothing the input dataset.\n",
        "\n",
        "\n",
        "wikipedia : https://www.mikulskibartosz.name/smoothing-time-series-in-python-using-savitzky-golay-filter/"
      ]
    },
    {
      "cell_type": "code",
      "metadata": {
        "id": "5dam9pBdOwDm",
        "colab_type": "code",
        "colab": {}
      },
      "source": [
        "#Savgol smoothing\n",
        "\n",
        "from scipy.signal import savgol_filter\n",
        "\n",
        "savgol_ans = savgol_filter(dataset1scatter['BFP_SEAL_WATER_FLOW'], window_length = 15, polyorder = 2)\n",
        "\n",
        "savgol_df = pd.DataFrame(savgol_ans)\n",
        "\n",
        "savgol_df.index = dataset1scatter.index\n",
        "\n",
        "savgol_df.columns = dataset1scatter.columns"
      ],
      "execution_count": null,
      "outputs": []
    },
    {
      "cell_type": "code",
      "metadata": {
        "id": "R_52opuITbaL",
        "colab_type": "code",
        "colab": {
          "base_uri": "https://localhost:8080/",
          "height": 571
        },
        "outputId": "6ce87e1b-112a-4f89-ab47-3baefac5a165"
      },
      "source": [
        "plt.figure(figsize=(16,8))\n",
        "\n",
        "lower_val = savgol_df['BFP_SEAL_WATER_FLOW'].quantile(0.25)\n",
        "\n",
        "upper_val = savgol_df['BFP_SEAL_WATER_FLOW'].quantile(0.75)\n",
        "\n",
        "for i in range(0, len(savgol_df)):\n",
        " \n",
        "    if savgol_df['BFP_SEAL_WATER_FLOW'][i] <=  upper_val and savgol_df['BFP_SEAL_WATER_FLOW'][i] >= lower_val:\n",
        "       plt.scatter(savgol_df.index[i], savgol_df['BFP_SEAL_WATER_FLOW'][i], c = 'B')\n",
        "       #sns.scatterplot(x = dataset1scatter.index, y = dataset1scatter['BFP_SEAL_WATER_FLOW'][i], palette = ['green'])\n",
        "    else:\n",
        "       #sns.scatterplot(x = dataset1scatter.index, y = dataset1scatter['BFP_SEAL_WATER_FLOW'][i], palette = ['red'])\n",
        "      plt.scatter(savgol_df.index[i], savgol_df['BFP_SEAL_WATER_FLOW'][i], c = 'R')\n",
        "\n",
        "plt.show()"
      ],
      "execution_count": null,
      "outputs": [
        {
          "output_type": "stream",
          "text": [
            "/usr/local/lib/python3.6/dist-packages/ipykernel_launcher.py:14: MatplotlibDeprecationWarning: Support for uppercase single-letter colors is deprecated since Matplotlib 3.1 and will be removed in 3.3; please use lowercase instead.\n",
            "  \n",
            "/usr/local/lib/python3.6/dist-packages/ipykernel_launcher.py:10: MatplotlibDeprecationWarning: Support for uppercase single-letter colors is deprecated since Matplotlib 3.1 and will be removed in 3.3; please use lowercase instead.\n",
            "  # Remove the CWD from sys.path while we load stuff.\n"
          ],
          "name": "stderr"
        },
        {
          "output_type": "display_data",
          "data": {
            "image/png": "[encoded data removed]",
            "text/plain": [
              "<Figure size 1152x576 with 1 Axes>"
            ]
          },
          "metadata": {
            "tags": [],
            "needs_background": "light"
          }
        }
      ]
    },
    {
      "cell_type": "markdown",
      "metadata": {
        "id": "aTrQOw_ceSD3",
        "colab_type": "text"
      },
      "source": [
        ""
      ]
    },
    {
      "cell_type": "markdown",
      "metadata": {
        "id": "MK3vGsUd0Kf_",
        "colab_type": "text"
      },
      "source": [
        "The goal of the Hampel filter is to identify and replace outliers in a given series. It uses a sliding window of configurable width to go over the data. For each window (given observation and the 2 window_size surrounding elements, window_size for each side)\n",
        "\n",
        "URL: https://towardsdatascience.com/outlier-detection-with-hampel-filter-85ddf523c73d"
      ]
    },
    {
      "cell_type": "code",
      "metadata": {
        "id": "57F7ip1ddssG",
        "colab_type": "code",
        "colab": {}
      },
      "source": [
        "def hampel(vals_orig, k=12, t0=3):\n",
        "    '''\n",
        "    vals: pandas series of values from which to remove outliers\n",
        "    k: size of window (including the sample; 7 is equal to 3 on either side of value)\n",
        "    '''\n",
        "    #Make copy so original not edited\n",
        "    vals = vals_orig.copy()    \n",
        "    #Hampel Filter\n",
        "    L = 1.4826\n",
        "    rolling_median= vals.rolling(k).median()\n",
        "    difference=np.abs(rolling_median-vals)\n",
        "    median_abs_deviation = difference.rolling(k).median()\n",
        "    threshold= t0 *L * median_abs_deviation\n",
        "    outlier_idx=difference>threshold\n",
        "    vals[outlier_idx] = np.nan\n",
        "    return(vals)"
      ],
      "execution_count": null,
      "outputs": []
    },
    {
      "cell_type": "code",
      "metadata": {
        "id": "WZLmKfg5ZDWe",
        "colab_type": "code",
        "colab": {}
      },
      "source": [
        "data_hampel = hampel(dataset1scatter['BFP_SEAL_WATER_FLOW'], 12, 3)\n",
        "\n",
        "hampel_df = pd.Series.to_frame(data_hampel)\n",
        "\n",
        "hampel_df.columns = dataset1scatter.columns\n",
        "\n",
        "hampel_df.index = dataset1scatter.index"
      ],
      "execution_count": null,
      "outputs": []
    },
    {
      "cell_type": "code",
      "metadata": {
        "id": "kTvfUjwGlWzV",
        "colab_type": "code",
        "colab": {}
      },
      "source": [
        "plt.figure(figsize = (16,8))\n",
        "\n",
        "bp = sns.boxplot(dataset1scatter['BFP_SEAL_WATER_FLOW'])"
      ],
      "execution_count": null,
      "outputs": []
    },
    {
      "cell_type": "markdown",
      "metadata": {
        "id": "vwS6xfZA0uys",
        "colab_type": "text"
      },
      "source": [
        "Plotting the graph for hampel."
      ]
    },
    {
      "cell_type": "code",
      "metadata": {
        "id": "GgjCnUGZbblx",
        "colab_type": "code",
        "colab": {
          "base_uri": "https://localhost:8080/",
          "height": 501
        },
        "outputId": "3c255e04-d8b3-4f6b-ca9a-33f8410d3ff6"
      },
      "source": [
        "plt.figure(figsize=(16,8))\n",
        "\n",
        "lower_val = hampel_df['BFP_SEAL_WATER_FLOW'].quantile(0.25)\n",
        "\n",
        "upper_val = hampel_df['BFP_SEAL_WATER_FLOW'].quantile(0.75)\n",
        "\n",
        "plt.figure(figsize = (16,8))\n",
        "\n",
        "plt.scatter(hampel_df.index, hampel_df['BFP_SEAL_WATER_FLOW'], c = 'B')\n",
        "\n",
        "for i in range(0, len(hampel_df)):\n",
        " \n",
        "    if (hampel_df['BFP_SEAL_WATER_FLOW'][i] <=  upper_val and hampel_df['BFP_SEAL_WATER_FLOW'][i] >= lower_val):\n",
        "        plt.scatter(hampel_df.index[i], hampel_df['BFP_SEAL_WATER_FLOW'][i], c = 'R')\n",
        "        \n",
        "plt.show()"
      ],
      "execution_count": null,
      "outputs": [
        {
          "output_type": "display_data",
          "data": {
            "text/plain": [
              "<Figure size 1152x576 with 0 Axes>"
            ]
          },
          "metadata": {
            "tags": []
          }
        },
        {
          "output_type": "display_data",
          "data": {
            "image/png": "[encoded data removed]",
            "text/plain": [
              "<Figure size 1152x576 with 1 Axes>"
            ]
          },
          "metadata": {
            "tags": [],
            "needs_background": "light"
          }
        }
      ]
    },
    {
      "cell_type": "markdown",
      "metadata": {
        "id": "kZO78yoqDTiI",
        "colab_type": "text"
      },
      "source": [
        "Imputation Techniques Forward Fill, Backward Fill, KNN Imputation, MICE and Interpolation"
      ]
    },
    {
      "cell_type": "code",
      "metadata": {
        "id": "dvRFcIvT5kvD",
        "colab_type": "code",
        "colab": {}
      },
      "source": [
        "def forward_fill(df_obj):\n",
        "\n",
        "  df_obj = df_obj.ffill()\n",
        "\n",
        "  return df_obj\n",
        "\n",
        "def fill_0(df_obj):\n",
        "\n",
        "  df_obj = df_obj.fillna(0)\n",
        "  \n",
        "  return df_obj\n",
        "\n",
        "def backward_fill(df_obj):\n",
        "\n",
        "  df_obj = df_obj.bfill()\n",
        "\n",
        "  return df_obj\n",
        "\n",
        "def knn_imputation(df_obj):\n",
        "\n",
        "   dfobj = np.array(df_obj)\n",
        "\n",
        "   print(type(dfobj))\n",
        "\n",
        "   from sklearn.impute import KNNImputer \n",
        "   imputer = KNNImputer(n_neighbors = 3, weights=\"uniform\")\n",
        "   dataset1 = imputer.fit_transform(dfobj.reshape(-1,1))\n",
        "  \n",
        "   return list(dataset1)\n",
        "\n",
        "def mice_imputation(df_obj):\n",
        "\n",
        "  from statsmodels.imputation.mice import MICEData\n",
        "\n",
        "  imp = MICEData(df_obj)\n",
        "\n",
        "  return type(imp)\n",
        "\n",
        "def interpol(df_obj):\n",
        "\n",
        "  df_obj = df_obj.interpolate(method='spline', order = 3)\n",
        "\n",
        "  return df_obj\n",
        "\n",
        "def interpol_cubic(df_obj):\n",
        "\n",
        "  df_obj = df_obj.interpolate(method='akima')\n",
        "\n",
        "  return df_obj\n",
        "\n",
        "def mean_impute(df_obj):\n",
        "\n",
        "  mean = df_obj['BFP_SEAL_WATER_FLOW'].mean()\n",
        "\n",
        "  df_obj.fillna(mean, inplace = True)\n",
        "\n",
        "  return df_obj\n",
        "\n",
        "def median_impute(df_obj):\n",
        "\n",
        "  median = df_obj['BFP_SEAL_WATER_FLOW'].median()\n",
        "\n",
        "  df_obj.fillna(median, inplace = True)\n",
        "\n",
        "  return df_obj\n"
      ],
      "execution_count": null,
      "outputs": []
    },
    {
      "cell_type": "markdown",
      "metadata": {
        "id": "rcZux0Sp5XAx",
        "colab_type": "text"
      },
      "source": [
        "Computation of Imputation Errors.\n",
        "\n",
        "Over here KNN has the least mean squared error of all the methods for 5000 value imputation"
      ]
    },
    {
      "cell_type": "markdown",
      "metadata": {
        "id": "8V6FCkII5x_c",
        "colab_type": "text"
      },
      "source": [
        "\n",
        "Mean Squared Errors: (186.22, 14.07, 10.27, 9.57, 18.98, 25.41)"
      ]
    },
    {
      "cell_type": "code",
      "metadata": {
        "id": "YA0-oEjjazUW",
        "colab_type": "code",
        "colab": {}
      },
      "source": [
        "from sklearn.metrics import mean_squared_error\n",
        "\n",
        "non_imputed_col = pd.read_csv('Imputer.csv')\n",
        "\n",
        "nan_introduced = pd.read_csv('Nan_data.csv')\n",
        "\n",
        "error_array = []\n",
        "\n",
        "error0 = np.round(mean_squared_error(non_imputed_col['BFP_SEAL_WATER_FLOW'], fill_0(nan_introduced['BFP_SEAL_WATER_FLOW'])), 2)\n",
        "\n",
        "error1 = np.round(mean_squared_error(non_imputed_col['BFP_SEAL_WATER_FLOW'], forward_fill(nan_introduced['BFP_SEAL_WATER_FLOW'])), 2)\n",
        "\n",
        "error2 = np.round(mean_squared_error(non_imputed_col['BFP_SEAL_WATER_FLOW'], backward_fill(nan_introduced['BFP_SEAL_WATER_FLOW'])), 2)\n",
        "\n",
        "error3 = np.round(mean_squared_error(non_imputed_col['BFP_SEAL_WATER_FLOW'], knn_imputation(nan_introduced['BFP_SEAL_WATER_FLOW'])), 2)\n",
        "\n",
        "error4 = np.round(mean_squared_error(non_imputed_col['BFP_SEAL_WATER_FLOW'], interpol(nan_introduced['BFP_SEAL_WATER_FLOW'])), 2)\n",
        "\n",
        "error5 = np.round(mean_squared_error(non_imputed_col['BFP_SEAL_WATER_FLOW'], interpol_cubic(nan_introduced['BFP_SEAL_WATER_FLOW'])), 2)\n",
        "\n",
        "\n",
        "error_array.append((error0, error1, error2, error3, error4, error5))\n",
        "\n",
        "print(error_array[0])"
      ],
      "execution_count": null,
      "outputs": []
    }
  ]
}